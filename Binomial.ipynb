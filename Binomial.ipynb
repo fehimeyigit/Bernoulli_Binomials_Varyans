{
  "nbformat": 4,
  "nbformat_minor": 0,
  "metadata": {
    "colab": {
      "name": "Untitled1.ipynb",
      "version": "0.3.2",
      "provenance": [],
      "include_colab_link": true
    },
    "kernelspec": {
      "name": "python3",
      "display_name": "Python 3"
    }
  },
  "cells": [
    {
      "cell_type": "markdown",
      "metadata": {
        "id": "view-in-github",
        "colab_type": "text"
      },
      "source": [
        "<a href=\"https://colab.research.google.com/github/fehimeyigit/Bernoulli_Binomials_Varyans/blob/master/Binomial.ipynb\" target=\"_parent\"><img src=\"https://colab.research.google.com/assets/colab-badge.svg\" alt=\"Open In Colab\"/></a>"
      ]
    },
    {
      "cell_type": "markdown",
      "metadata": {
        "id": "lAARQ1LoktZa",
        "colab_type": "text"
      },
      "source": [
        "Belli bir ameliyatın başarılı sonuçlanması olasılığı %80’dir. Ameliyat edilen 10\n",
        "hastadan,\n",
        "\n",
        "a) 6’ sının iyileşmesi olasılığı nedir?"
      ]
    },
    {
      "cell_type": "code",
      "metadata": {
        "id": "GaIH_DCql6Tf",
        "colab_type": "code",
        "colab": {
          "base_uri": "https://localhost:8080/",
          "height": 34
        },
        "outputId": "84099680-2b77-4e08-d96c-32d4f855520e"
      },
      "source": [
        "n=10\n",
        "p=0.8\n",
        "q=1-p\n",
        "x=6\n",
        "\n",
        "\n",
        "def faktoriyelHesapla(i):\n",
        "  \n",
        "    if i==0:\n",
        "        return 1\n",
        "    if i==1:       \n",
        "        return 1\n",
        "    \n",
        "    else: \n",
        "        return i * faktoriyelHesapla(i-1)\n",
        "    \n",
        "\n",
        "\n",
        "\n",
        "def binomial(n,x,p):\n",
        "         \n",
        "    sonuc = (faktoriyelHesapla(n)/(faktoriyelHesapla(n-x)*faktoriyelHesapla(x)))* (p**x) *((1-p)** (n-x))\n",
        "        \n",
        "    return sonuc\n",
        "  \n",
        "  \n",
        "  \n",
        "  \n",
        "binomial(n,x,p)"
      ],
      "execution_count": 18,
      "outputs": [
        {
          "output_type": "execute_result",
          "data": {
            "text/plain": [
              "0.08808038399999996"
            ]
          },
          "metadata": {
            "tags": []
          },
          "execution_count": 18
        }
      ]
    },
    {
      "cell_type": "markdown",
      "metadata": {
        "id": "OHT0wGXOm0Qk",
        "colab_type": "text"
      },
      "source": [
        "b) En az 9’ unun iyileşmesi olasılığı nedir?"
      ]
    },
    {
      "cell_type": "code",
      "metadata": {
        "id": "axL4gF8-m1ZG",
        "colab_type": "code",
        "colab": {
          "base_uri": "https://localhost:8080/",
          "height": 34
        },
        "outputId": "75feffd4-0a7c-48b1-c1e3-ad85a5abccb7"
      },
      "source": [
        "dokuz=binomial(n,9,p)\n",
        "\n",
        "on= binomial(n,10,p)\n",
        "\n",
        "enaz=dokuz+on\n",
        "\n",
        "enaz"
      ],
      "execution_count": 13,
      "outputs": [
        {
          "output_type": "execute_result",
          "data": {
            "text/plain": [
              "0.37580963840000015"
            ]
          },
          "metadata": {
            "tags": []
          },
          "execution_count": 13
        }
      ]
    },
    {
      "cell_type": "markdown",
      "metadata": {
        "id": "Vx446fRpoC07",
        "colab_type": "text"
      },
      "source": [
        "c) En fazla 7’ sinin iyileşmesi olasılığı nedir?"
      ]
    },
    {
      "cell_type": "code",
      "metadata": {
        "id": "qp_ZT6RboGOZ",
        "colab_type": "code",
        "colab": {
          "base_uri": "https://localhost:8080/",
          "height": 34
        },
        "outputId": "80add510-33c6-4a3e-ca29-4a591a441632"
      },
      "source": [
        "sekiz=binomial(n,8,p)\n",
        "en_fazla_yedi=1-(sekiz+dokuz+on)\n",
        "  \n",
        "en_fazla_yedi"
      ],
      "execution_count": 15,
      "outputs": [
        {
          "output_type": "execute_result",
          "data": {
            "text/plain": [
              "0.3222004735999998"
            ]
          },
          "metadata": {
            "tags": []
          },
          "execution_count": 15
        }
      ]
    },
    {
      "cell_type": "markdown",
      "metadata": {
        "id": "kbAbsEYiopeG",
        "colab_type": "text"
      },
      "source": [
        "Ameliyatı başarılı sonuçlanacak hastaların beklenen sayısını ve varyansını hesaplayınız"
      ]
    },
    {
      "cell_type": "code",
      "metadata": {
        "id": "88leHFV8oqjN",
        "colab_type": "code",
        "colab": {
          "base_uri": "https://localhost:8080/",
          "height": 34
        },
        "outputId": "3b36c423-e0c0-40df-ad40-d2ab647ca831"
      },
      "source": [
        "beklenen_deger=n*p\n",
        "beklenen_deger"
      ],
      "execution_count": 17,
      "outputs": [
        {
          "output_type": "execute_result",
          "data": {
            "text/plain": [
              "8.0"
            ]
          },
          "metadata": {
            "tags": []
          },
          "execution_count": 17
        }
      ]
    },
    {
      "cell_type": "code",
      "metadata": {
        "id": "1CbIQa0Lo3sR",
        "colab_type": "code",
        "colab": {
          "base_uri": "https://localhost:8080/",
          "height": 34
        },
        "outputId": "e9ea7d13-66d9-44e9-8db8-185f6a0774bb"
      },
      "source": [
        "varyans=n*p*q\n",
        "varyans"
      ],
      "execution_count": 19,
      "outputs": [
        {
          "output_type": "execute_result",
          "data": {
            "text/plain": [
              "1.5999999999999996"
            ]
          },
          "metadata": {
            "tags": []
          },
          "execution_count": 19
        }
      ]
    }
  ]
}